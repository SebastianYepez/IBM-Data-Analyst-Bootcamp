{
 "cells": [
  {
   "cell_type": "markdown",
   "id": "d5df92f0",
   "metadata": {},
   "source": [
    "#### Jupyter Notebook Shortcuts & Practice Template\n",
    "\n",
    "Written by Sebastian Yepez"
   ]
  },
  {
   "cell_type": "markdown",
   "id": "e760f9b1",
   "metadata": {},
   "source": [
    "# Working with Notebook Files"
   ]
  },
  {
   "cell_type": "markdown",
   "id": "f9f1954f",
   "metadata": {},
   "source": [
    "To enter edit mode : press enter\n",
    "\n",
    "To enter command mode : press escape\n",
    "\n",
    "To output a code and stay in the same cell : command + enter\n",
    "\n",
    "To output a code and create a new cell : shift + enter"
   ]
  },
  {
   "cell_type": "markdown",
   "id": "d9cddd9a",
   "metadata": {},
   "source": [
    "Shortcuts:\n",
    "\n",
    "cut a cell : select and press \"x\" in command mode\n",
    "\n",
    "use arrows to navigate up or down\n",
    "\n",
    "paste a cell : press \"v\" whenever at desired location\n",
    "\n",
    "copy a cell : select and press \"c\"\n",
    "\n",
    "create cell Above: select a cell and press \"a\"\n",
    "\n",
    "create cell Below: select a cell and press \"b\"\n",
    "\n",
    "delete a cell: select and double-click \"d\""
   ]
  },
  {
   "cell_type": "markdown",
   "id": "5516598a",
   "metadata": {},
   "source": [
    "Markdown cell: a cell strictly for documentation (comments; text cell)\n",
    "\n",
    "convert a code cell into markdown: select a cell and press \"m\"\n",
    "\n",
    "convert a markdown cell into a code cell: select and press \"y\"\n",
    "\n",
    "\n",
    "\n",
    "Two advantages of using Jupyter:\n",
    "\n",
    "1. with longer code, markdown cells are very useful\n",
    "\n",
    "2. you can select and execute particular cells (solve a problem in pieces)"
   ]
  },
  {
   "cell_type": "markdown",
   "id": "8f2dd322",
   "metadata": {},
   "source": [
    "### Practice"
   ]
  },
  {
   "cell_type": "code",
   "execution_count": 1,
   "id": "2eef6638",
   "metadata": {},
   "outputs": [
    {
     "data": {
      "text/plain": [
       "[1, 2, 3, 4]"
      ]
     },
     "execution_count": 1,
     "metadata": {},
     "output_type": "execute_result"
    }
   ],
   "source": [
    "x = [1, 2, 3, 4]\n",
    "x"
   ]
  },
  {
   "cell_type": "code",
   "execution_count": 2,
   "id": "b23dbae7",
   "metadata": {
    "scrolled": true
   },
   "outputs": [
    {
     "data": {
      "text/plain": [
       "[2, 3, 1]"
      ]
     },
     "execution_count": 2,
     "metadata": {},
     "output_type": "execute_result"
    }
   ],
   "source": [
    "x = [2, 3, 1]\n",
    "x"
   ]
  },
  {
   "cell_type": "code",
   "execution_count": null,
   "id": "193b5f44",
   "metadata": {},
   "outputs": [],
   "source": []
  },
  {
   "cell_type": "markdown",
   "id": "c4a2371b",
   "metadata": {},
   "source": [
    "Hi!"
   ]
  },
  {
   "cell_type": "code",
   "execution_count": 3,
   "id": "0e88b6e8",
   "metadata": {
    "scrolled": true
   },
   "outputs": [
    {
     "name": "stdout",
     "output_type": "stream",
     "text": [
      "[2, 3, 1]\n"
     ]
    }
   ],
   "source": [
    "print(x)"
   ]
  },
  {
   "cell_type": "markdown",
   "id": "653d313d",
   "metadata": {},
   "source": [
    "# Using Shortcuts"
   ]
  },
  {
   "cell_type": "code",
   "execution_count": 4,
   "id": "69107930",
   "metadata": {
    "scrolled": true
   },
   "outputs": [
    {
     "name": "stdout",
     "output_type": "stream",
     "text": [
      "8\n"
     ]
    }
   ],
   "source": [
    "# The following program consists of two lines of code:\n",
    "x = 5 + 3\n",
    "print(x)"
   ]
  },
  {
   "cell_type": "markdown",
   "id": "be6e64f0",
   "metadata": {},
   "source": [
    "Press \"h\" to get a list of shortcuts in command and edit mode\n",
    "\n",
    "to close shortcut window: press escape or h again\n",
    "\n",
    "to hide and unhide output cells: select and click \"o\"\n",
    "\n",
    "to hide/unhide line numbers: select and click \"L\"\n",
    "\n",
    "to restart and clear all outputs: click on \"kernel\" tab and click \"restart and clear\""
   ]
  },
  {
   "cell_type": "markdown",
   "id": "0c89aa4a",
   "metadata": {},
   "source": [
    "# Errors"
   ]
  },
  {
   "cell_type": "code",
   "execution_count": 5,
   "id": "dc735a15",
   "metadata": {},
   "outputs": [],
   "source": [
    "x = 5 + 3"
   ]
  },
  {
   "cell_type": "code",
   "execution_count": 6,
   "id": "f61eaa42",
   "metadata": {},
   "outputs": [
    {
     "name": "stdout",
     "output_type": "stream",
     "text": [
      "8\n"
     ]
    }
   ],
   "source": [
    "print(x)"
   ]
  },
  {
   "cell_type": "code",
   "execution_count": 7,
   "id": "63718521",
   "metadata": {},
   "outputs": [
    {
     "ename": "NameError",
     "evalue": "name 'y' is not defined",
     "output_type": "error",
     "traceback": [
      "\u001b[0;31m---------------------------------------------------------------------------\u001b[0m",
      "\u001b[0;31mNameError\u001b[0m                                 Traceback (most recent call last)",
      "Cell \u001b[0;32mIn[7], line 1\u001b[0m\n\u001b[0;32m----> 1\u001b[0m \u001b[38;5;28mprint\u001b[39m(y)\n",
      "\u001b[0;31mNameError\u001b[0m: name 'y' is not defined"
     ]
    }
   ],
   "source": [
    "print(y)"
   ]
  },
  {
   "cell_type": "code",
   "execution_count": 8,
   "id": "1c5e356f",
   "metadata": {},
   "outputs": [
    {
     "ename": "NameError",
     "evalue": "name 'prit' is not defined",
     "output_type": "error",
     "traceback": [
      "\u001b[0;31m---------------------------------------------------------------------------\u001b[0m",
      "\u001b[0;31mNameError\u001b[0m                                 Traceback (most recent call last)",
      "Cell \u001b[0;32mIn[8], line 1\u001b[0m\n\u001b[0;32m----> 1\u001b[0m prit(y)\n",
      "\u001b[0;31mNameError\u001b[0m: name 'prit' is not defined"
     ]
    }
   ],
   "source": [
    "prit(y)"
   ]
  },
  {
   "cell_type": "markdown",
   "id": "fe45b6eb",
   "metadata": {},
   "source": [
    "#### Jupyter Notebook Shortcuts & Practice Template\n",
    "\n",
    "Written by Sebastian Yepez"
   ]
  }
 ],
 "metadata": {
  "kernelspec": {
   "display_name": "Python 3 (ipykernel)",
   "language": "python",
   "name": "python3"
  },
  "language_info": {
   "codemirror_mode": {
    "name": "ipython",
    "version": 3
   },
   "file_extension": ".py",
   "mimetype": "text/x-python",
   "name": "python",
   "nbconvert_exporter": "python",
   "pygments_lexer": "ipython3",
   "version": "3.11.5"
  }
 },
 "nbformat": 4,
 "nbformat_minor": 5
}
