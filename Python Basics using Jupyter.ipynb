{
 "cells": [
  {
   "cell_type": "markdown",
   "id": "2b0d3cc3",
   "metadata": {},
   "source": [
    "#### Python Basics following Udemy's \"The Data Analyst Course: Complete Data Analyst Bootcamp\"\n",
    "\n",
    "Written by Sebastian Yepez"
   ]
  },
  {
   "cell_type": "markdown",
   "id": "d00d6fc7",
   "metadata": {},
   "source": [
    "# Python Variables"
   ]
  },
  {
   "cell_type": "markdown",
   "id": "914d9552",
   "metadata": {},
   "source": [
    "Python is an interpretive language, so it can infer data types meaning that we don't have to specify the type as in other languages"
   ]
  },
  {
   "cell_type": "code",
   "execution_count": 1,
   "id": "81a858d3",
   "metadata": {},
   "outputs": [],
   "source": [
    "x = 5 # command/program -> execute (shift + enter)"
   ]
  },
  {
   "cell_type": "markdown",
   "id": "e4b8d4b3",
   "metadata": {},
   "source": [
    "= means \"assign\" or \"bind to\" | read as \"x gets 5\""
   ]
  },
  {
   "cell_type": "code",
   "execution_count": 2,
   "id": "c3ea4201",
   "metadata": {},
   "outputs": [
    {
     "data": {
      "text/plain": [
       "5"
      ]
     },
     "execution_count": 2,
     "metadata": {},
     "output_type": "execute_result"
    }
   ],
   "source": [
    "x # output contents in x; Jupyter automatically does this"
   ]
  },
  {
   "cell_type": "code",
   "execution_count": 3,
   "id": "1c884c17",
   "metadata": {},
   "outputs": [],
   "source": [
    "y = 8 # assign 8 to y"
   ]
  },
  {
   "cell_type": "code",
   "execution_count": 116,
   "id": "9659c6bd",
   "metadata": {},
   "outputs": [
    {
     "ename": "NameError",
     "evalue": "name 'Y' is not defined",
     "output_type": "error",
     "traceback": [
      "\u001b[0;31m---------------------------------------------------------------------------\u001b[0m",
      "\u001b[0;31mNameError\u001b[0m                                 Traceback (most recent call last)",
      "Cell \u001b[0;32mIn[116], line 1\u001b[0m\n\u001b[0;32m----> 1\u001b[0m Y\n",
      "\u001b[0;31mNameError\u001b[0m: name 'Y' is not defined"
     ]
    }
   ],
   "source": [
    "Y # ERROR, no such thing as \"Y\""
   ]
  },
  {
   "cell_type": "markdown",
   "id": "a1fe742f",
   "metadata": {},
   "source": [
    "#### Python is case sensitive; BE CAREFUL!"
   ]
  },
  {
   "cell_type": "code",
   "execution_count": 5,
   "id": "8f430832",
   "metadata": {},
   "outputs": [
    {
     "name": "stdout",
     "output_type": "stream",
     "text": [
      "8\n"
     ]
    }
   ],
   "source": [
    "print(y)"
   ]
  },
  {
   "cell_type": "code",
   "execution_count": 6,
   "id": "b4a17f20",
   "metadata": {},
   "outputs": [],
   "source": [
    "x,y = (1,2) # assigns values to x and y accordingly"
   ]
  },
  {
   "cell_type": "code",
   "execution_count": 7,
   "id": "108d4422",
   "metadata": {},
   "outputs": [
    {
     "data": {
      "text/plain": [
       "1"
      ]
     },
     "execution_count": 7,
     "metadata": {},
     "output_type": "execute_result"
    }
   ],
   "source": [
    "x"
   ]
  },
  {
   "cell_type": "code",
   "execution_count": 8,
   "id": "d990d07f",
   "metadata": {},
   "outputs": [
    {
     "data": {
      "text/plain": [
       "2"
      ]
     },
     "execution_count": 8,
     "metadata": {},
     "output_type": "execute_result"
    }
   ],
   "source": [
    "y"
   ]
  },
  {
   "cell_type": "code",
   "execution_count": 117,
   "id": "0f073608",
   "metadata": {},
   "outputs": [
    {
     "ename": "ValueError",
     "evalue": "too many values to unpack (expected 2)",
     "output_type": "error",
     "traceback": [
      "\u001b[0;31m---------------------------------------------------------------------------\u001b[0m",
      "\u001b[0;31mValueError\u001b[0m                                Traceback (most recent call last)",
      "Cell \u001b[0;32mIn[117], line 1\u001b[0m\n\u001b[0;32m----> 1\u001b[0m x,y \u001b[38;5;241m=\u001b[39m (\u001b[38;5;241m1\u001b[39m,\u001b[38;5;241m2\u001b[39m,\u001b[38;5;241m3\u001b[39m)\n",
      "\u001b[0;31mValueError\u001b[0m: too many values to unpack (expected 2)"
     ]
    }
   ],
   "source": [
    "x,y = (1,2,3) # error too many values compared to variables"
   ]
  },
  {
   "cell_type": "markdown",
   "id": "34e6d26c",
   "metadata": {},
   "source": [
    "### Python Variables - Exercise #1 & #2"
   ]
  },
  {
   "cell_type": "markdown",
   "id": "1743c6ee",
   "metadata": {},
   "source": [
    "Create a variable with name x and a value of 10. Execute.\n",
    "\n",
    "Tell the computer to show you the value of that variable without utilizing the print() function, similar to what you would do in Jupyter.\n",
    "\n",
    "Can you think of a second way to obtain the same result?"
   ]
  },
  {
   "cell_type": "code",
   "execution_count": 10,
   "id": "804a1fa0",
   "metadata": {},
   "outputs": [
    {
     "name": "stdout",
     "output_type": "stream",
     "text": [
      "10\n"
     ]
    },
    {
     "data": {
      "text/plain": [
       "10"
      ]
     },
     "execution_count": 10,
     "metadata": {},
     "output_type": "execute_result"
    }
   ],
   "source": [
    "x = 10\n",
    "print(x)\n",
    "x # Recall: Jupyter's kernel outputs this"
   ]
  },
  {
   "cell_type": "markdown",
   "id": "9d100ef5",
   "metadata": {},
   "source": [
    "### Python Variables - Exercise #3 & #4"
   ]
  },
  {
   "cell_type": "markdown",
   "id": "40cf3be1",
   "metadata": {},
   "source": [
    "On the same line, create four new variables: a, b, c, and d, that are equal to 10, 20, 30, and 40, respectively.\n",
    "\n",
    "Tell the computer to show you the value corresponding to the variable b.\n",
    "\n",
    "Do the same for d."
   ]
  },
  {
   "cell_type": "code",
   "execution_count": 11,
   "id": "8654c463",
   "metadata": {},
   "outputs": [
    {
     "name": "stdout",
     "output_type": "stream",
     "text": [
      "20\n",
      "40\n"
     ]
    }
   ],
   "source": [
    "a,b,c,d = (10,20,30,40)\n",
    "print(b)\n",
    "print(d)"
   ]
  },
  {
   "cell_type": "markdown",
   "id": "d4247ac6",
   "metadata": {},
   "source": [
    "### There are 98 exercises, so I'm only going to copy the ones that are hardest/most interesting and unique"
   ]
  },
  {
   "cell_type": "markdown",
   "id": "702df76b",
   "metadata": {},
   "source": [
    "# Numbers and Boolean"
   ]
  },
  {
   "cell_type": "markdown",
   "id": "b83e21f4",
   "metadata": {},
   "source": [
    "Integers: Positive or negative whole numbers - without a decimal point"
   ]
  },
  {
   "cell_type": "code",
   "execution_count": 12,
   "id": "3fce4e7c",
   "metadata": {},
   "outputs": [
    {
     "data": {
      "text/plain": [
       "int"
      ]
     },
     "execution_count": 12,
     "metadata": {},
     "output_type": "execute_result"
    }
   ],
   "source": [
    "x1 = 5\n",
    "type(x1) # type(var) prints the type of the input"
   ]
  },
  {
   "cell_type": "code",
   "execution_count": 13,
   "id": "67304219",
   "metadata": {},
   "outputs": [
    {
     "data": {
      "text/plain": [
       "int"
      ]
     },
     "execution_count": 13,
     "metadata": {},
     "output_type": "execute_result"
    }
   ],
   "source": [
    "type(-6) # input does not need to be a variable"
   ]
  },
  {
   "cell_type": "markdown",
   "id": "d04adacf",
   "metadata": {},
   "source": [
    "Floating Point: A real number with a decimal"
   ]
  },
  {
   "cell_type": "code",
   "execution_count": 14,
   "id": "4d52431b",
   "metadata": {},
   "outputs": [
    {
     "data": {
      "text/plain": [
       "float"
      ]
     },
     "execution_count": 14,
     "metadata": {},
     "output_type": "execute_result"
    }
   ],
   "source": [
    "x2 = 4.75\n",
    "type(x2)"
   ]
  },
  {
   "cell_type": "code",
   "execution_count": 15,
   "id": "d478ffc3",
   "metadata": {},
   "outputs": [
    {
     "name": "stdout",
     "output_type": "stream",
     "text": [
      "5\n"
     ]
    },
    {
     "data": {
      "text/plain": [
       "int"
      ]
     },
     "execution_count": 15,
     "metadata": {},
     "output_type": "execute_result"
    }
   ],
   "source": [
    "# int() transforms the input into an integer\n",
    "x = 5.6\n",
    "x = int(x)\n",
    "print(x)\n",
    "type(x)"
   ]
  },
  {
   "cell_type": "code",
   "execution_count": 16,
   "id": "c7b757e9",
   "metadata": {},
   "outputs": [
    {
     "data": {
      "text/plain": [
       "3.0"
      ]
     },
     "execution_count": 16,
     "metadata": {},
     "output_type": "execute_result"
    }
   ],
   "source": [
    "# float() transforms the input into a decimal\n",
    "float(3)"
   ]
  },
  {
   "cell_type": "markdown",
   "id": "08bc0b8c",
   "metadata": {},
   "source": [
    "Boolean values: A \"true\" or \"false\" value | 1 or 0 | on or off"
   ]
  },
  {
   "cell_type": "code",
   "execution_count": 17,
   "id": "ba098abd",
   "metadata": {},
   "outputs": [
    {
     "data": {
      "text/plain": [
       "bool"
      ]
     },
     "execution_count": 17,
     "metadata": {},
     "output_type": "execute_result"
    }
   ],
   "source": [
    "x3 = True # 'T' HAS to be capitalized\n",
    "type(x3)"
   ]
  },
  {
   "cell_type": "markdown",
   "id": "507c9b37",
   "metadata": {},
   "source": [
    "### Numbers and Boolean Values - Exercise #4"
   ]
  },
  {
   "cell_type": "markdown",
   "id": "41698030",
   "metadata": {},
   "source": [
    "Create a variable b equal to 99.\n",
    "\n",
    "Turn b into a float.\n",
    "\n",
    "Consider using the print() function as a tool to help you solve this exercise."
   ]
  },
  {
   "cell_type": "code",
   "execution_count": 18,
   "id": "abb91e7d",
   "metadata": {},
   "outputs": [
    {
     "name": "stdout",
     "output_type": "stream",
     "text": [
      "99.0\n"
     ]
    }
   ],
   "source": [
    "b = 99\n",
    "b = float(b) # b = 99.0\n",
    "print(b)"
   ]
  },
  {
   "cell_type": "markdown",
   "id": "21913a66",
   "metadata": {},
   "source": [
    "# Strings"
   ]
  },
  {
   "cell_type": "markdown",
   "id": "7aff1b6e",
   "metadata": {},
   "source": [
    "Strings: Text values composed of a sequence of characters"
   ]
  },
  {
   "cell_type": "code",
   "execution_count": 19,
   "id": "def3f508",
   "metadata": {},
   "outputs": [
    {
     "data": {
      "text/plain": [
       "'George'"
      ]
     },
     "execution_count": 19,
     "metadata": {},
     "output_type": "execute_result"
    }
   ],
   "source": [
    "# George # will result in an error\n",
    "'George' # strings MUST have a single or double quote '' or \"\"\n",
    "\"George\" # will be the same result as last line"
   ]
  },
  {
   "cell_type": "code",
   "execution_count": 20,
   "id": "9b2cfca4",
   "metadata": {},
   "outputs": [
    {
     "name": "stdout",
     "output_type": "stream",
     "text": [
      "George\n",
      "George\n"
     ]
    }
   ],
   "source": [
    "print('George')\n",
    "print(\"George\")"
   ]
  },
  {
   "cell_type": "code",
   "execution_count": 21,
   "id": "bdec95f2",
   "metadata": {},
   "outputs": [
    {
     "data": {
      "text/plain": [
       "'George'"
      ]
     },
     "execution_count": 21,
     "metadata": {},
     "output_type": "execute_result"
    }
   ],
   "source": [
    "name = 'George'\n",
    "name"
   ]
  },
  {
   "cell_type": "code",
   "execution_count": 22,
   "id": "fe8a36d7",
   "metadata": {},
   "outputs": [
    {
     "name": "stdout",
     "output_type": "stream",
     "text": [
      "George\n"
     ]
    }
   ],
   "source": [
    "print(name)"
   ]
  },
  {
   "cell_type": "code",
   "execution_count": 118,
   "id": "6939555a",
   "metadata": {},
   "outputs": [
    {
     "ename": "TypeError",
     "evalue": "unsupported operand type(s) for +: 'int' and 'str'",
     "output_type": "error",
     "traceback": [
      "\u001b[0;31m---------------------------------------------------------------------------\u001b[0m",
      "\u001b[0;31mTypeError\u001b[0m                                 Traceback (most recent call last)",
      "Cell \u001b[0;32mIn[118], line 3\u001b[0m\n\u001b[1;32m      1\u001b[0m \u001b[38;5;66;03m# y - the number of dollars you have in your pocket\u001b[39;00m\n\u001b[1;32m      2\u001b[0m y \u001b[38;5;241m=\u001b[39m \u001b[38;5;241m10\u001b[39m\n\u001b[0;32m----> 3\u001b[0m \u001b[38;5;28mprint\u001b[39m(y \u001b[38;5;241m+\u001b[39m \u001b[38;5;124m\"\u001b[39m\u001b[38;5;124mDollars\u001b[39m\u001b[38;5;124m\"\u001b[39m)\n",
      "\u001b[0;31mTypeError\u001b[0m: unsupported operand type(s) for +: 'int' and 'str'"
     ]
    }
   ],
   "source": [
    "# y - the number of dollars you have in your pocket\n",
    "y = 10\n",
    "print(y + \"Dollars\") # ILLEGAL"
   ]
  },
  {
   "cell_type": "code",
   "execution_count": 24,
   "id": "f9810dab",
   "metadata": {},
   "outputs": [
    {
     "name": "stdout",
     "output_type": "stream",
     "text": [
      "10 Dollars\n"
     ]
    }
   ],
   "source": [
    "y = 10\n",
    "print(str(y) + \" Dollars\")"
   ]
  },
  {
   "cell_type": "code",
   "execution_count": 25,
   "id": "eca2d207",
   "metadata": {},
   "outputs": [
    {
     "name": "stdout",
     "output_type": "stream",
     "text": [
      "I'm fine\n",
      "I'm fine\n",
      "Press \"Enter\"\n"
     ]
    }
   ],
   "source": [
    "# Sometimes you have to use specific quotes or the \"escape\" character\n",
    "\n",
    "str1 = \"I'm fine\"\n",
    "str2 = 'I\\'m fine'\n",
    "str3 = 'Press \"Enter\"'\n",
    "print(str1)\n",
    "print(str2)\n",
    "print(str3)"
   ]
  },
  {
   "cell_type": "code",
   "execution_count": 26,
   "id": "4c875c43",
   "metadata": {},
   "outputs": [
    {
     "data": {
      "text/plain": [
       "'Redcar'"
      ]
     },
     "execution_count": 26,
     "metadata": {},
     "output_type": "execute_result"
    }
   ],
   "source": [
    "'Red' 'car' # outputs 'Redcar'"
   ]
  },
  {
   "cell_type": "code",
   "execution_count": 27,
   "id": "2b3c1f0b",
   "metadata": {},
   "outputs": [
    {
     "data": {
      "text/plain": [
       "'Red car'"
      ]
     },
     "execution_count": 27,
     "metadata": {},
     "output_type": "execute_result"
    }
   ],
   "source": [
    "'Red' + ' car' # outputs 'Red car'"
   ]
  },
  {
   "cell_type": "code",
   "execution_count": 28,
   "id": "dfd702da",
   "metadata": {},
   "outputs": [
    {
     "name": "stdout",
     "output_type": "stream",
     "text": [
      "Red car\n"
     ]
    }
   ],
   "source": [
    "print('Red', 'car') # , trailing comma - outputs Red Car"
   ]
  },
  {
   "cell_type": "code",
   "execution_count": 29,
   "id": "4b0fcd8d",
   "metadata": {},
   "outputs": [
    {
     "data": {
      "text/plain": [
       "(3, 5, 6.9, 7.0, 'car')"
      ]
     },
     "execution_count": 29,
     "metadata": {},
     "output_type": "execute_result"
    }
   ],
   "source": [
    "3, 5, 6.9, 7.0, 'car' # Jupyter Python kernal automatically outputs this list, but in parenthesis"
   ]
  },
  {
   "cell_type": "code",
   "execution_count": 30,
   "id": "00239261",
   "metadata": {},
   "outputs": [
    {
     "name": "stdout",
     "output_type": "stream",
     "text": [
      "3 5 6.9 7.0 car\n"
     ]
    }
   ],
   "source": [
    "print(3, 5, 6.9, 7.0, 'car')"
   ]
  },
  {
   "cell_type": "markdown",
   "id": "fea880e4",
   "metadata": {},
   "source": [
    "### Strings - Exercise #5"
   ]
  },
  {
   "cell_type": "markdown",
   "id": "198f81f2",
   "metadata": {},
   "source": [
    "Include a plus sign in your line of code to produce 'Big Houses'.\n",
    "\n",
    "Include a trailing comma in your line of code to produce Big Houses."
   ]
  },
  {
   "cell_type": "code",
   "execution_count": 31,
   "id": "0656eeac",
   "metadata": {},
   "outputs": [
    {
     "name": "stdout",
     "output_type": "stream",
     "text": [
      "Big Houses\n",
      "Big Houses\n"
     ]
    }
   ],
   "source": [
    "print(\"Big\" + \" Houses\")\n",
    "print('Big', 'Houses')"
   ]
  },
  {
   "cell_type": "markdown",
   "id": "a65d1472",
   "metadata": {},
   "source": [
    "# Arithmetic Operators"
   ]
  },
  {
   "cell_type": "code",
   "execution_count": 32,
   "id": "7663a800",
   "metadata": {},
   "outputs": [
    {
     "data": {
      "text/plain": [
       "-2"
      ]
     },
     "execution_count": 32,
     "metadata": {},
     "output_type": "execute_result"
    }
   ],
   "source": [
    "1 + 2 # 1,2 are the operands\n",
    "3 - 5 # 3,5 are the operands\n",
    "# +,- are the arithmetic operators"
   ]
  },
  {
   "cell_type": "markdown",
   "id": "811c053e",
   "metadata": {},
   "source": [
    "Arithmetic Operators:\n",
    "\n",
    "Addition + | Subtraction - | Division / | Modulo % | Multiplication * | Exponent **"
   ]
  },
  {
   "cell_type": "code",
   "execution_count": 33,
   "id": "2452426a",
   "metadata": {
    "scrolled": true
   },
   "outputs": [
    {
     "name": "stdout",
     "output_type": "stream",
     "text": [
      "5.333333333333333\n",
      "1\n",
      "15\n",
      "125\n"
     ]
    }
   ],
   "source": [
    "print(16 / 3) # automatically casted to floating point\n",
    "print(16 % 3)\n",
    "print(5 * 3)\n",
    "print(5 ** 3)"
   ]
  },
  {
   "cell_type": "markdown",
   "id": "9f8fadff",
   "metadata": {},
   "source": [
    "# The Double Equality Sign"
   ]
  },
  {
   "cell_type": "code",
   "execution_count": 34,
   "id": "fbaf6266",
   "metadata": {},
   "outputs": [
    {
     "data": {
      "text/plain": [
       "125"
      ]
     },
     "execution_count": 34,
     "metadata": {},
     "output_type": "execute_result"
    }
   ],
   "source": [
    "y = 5 ** 3\n",
    "y # y has the value of 125"
   ]
  },
  {
   "cell_type": "code",
   "execution_count": 35,
   "id": "7f1b0f9a",
   "metadata": {},
   "outputs": [
    {
     "data": {
      "text/plain": [
       "False"
      ]
     },
     "execution_count": 35,
     "metadata": {},
     "output_type": "execute_result"
    }
   ],
   "source": [
    "y == 126 # is y equal to 126? returns a boolean"
   ]
  },
  {
   "cell_type": "markdown",
   "id": "46144448",
   "metadata": {},
   "source": [
    "== means \"equals\" | it is used for COMPARISON rather than assignment"
   ]
  },
  {
   "cell_type": "markdown",
   "id": "3717c8df",
   "metadata": {},
   "source": [
    "# Reassigning Values"
   ]
  },
  {
   "cell_type": "code",
   "execution_count": 36,
   "id": "4d8f8ef9",
   "metadata": {},
   "outputs": [
    {
     "data": {
      "text/plain": [
       "1"
      ]
     },
     "execution_count": 36,
     "metadata": {},
     "output_type": "execute_result"
    }
   ],
   "source": [
    "z = 1\n",
    "z"
   ]
  },
  {
   "cell_type": "code",
   "execution_count": 37,
   "id": "55dc709e",
   "metadata": {},
   "outputs": [
    {
     "data": {
      "text/plain": [
       "3"
      ]
     },
     "execution_count": 37,
     "metadata": {},
     "output_type": "execute_result"
    }
   ],
   "source": [
    "z = 3\n",
    "z"
   ]
  },
  {
   "cell_type": "markdown",
   "id": "cb9f23fc",
   "metadata": {},
   "source": [
    "Reassigning Values means to assign a new value to a variable, overwriting the previous value"
   ]
  },
  {
   "cell_type": "markdown",
   "id": "565770f0",
   "metadata": {},
   "source": [
    "Some other ways to reassign values are to use the operators: ++, --. +=, -=, *=, \\=, %=, **=\n",
    "    \n",
    "+= is the same as x = x + val (same goes for other arithmetic operators)\n",
    "\n",
    "++ is the same as x += 1 (incrementing by 1)\n",
    "\n",
    "-- is the same as x -= 1 (decrementing by 1)"
   ]
  },
  {
   "cell_type": "code",
   "execution_count": 38,
   "id": "5ef8c26a",
   "metadata": {},
   "outputs": [
    {
     "name": "stdout",
     "output_type": "stream",
     "text": [
      "2\n"
     ]
    }
   ],
   "source": [
    "x = 0 # x = 0\n",
    "x += 2 # x = x + 2\n",
    "x *= 4 # x = x * 4\n",
    "x %= 3 # x = x % 3\n",
    "print(x) # what will x be?"
   ]
  },
  {
   "cell_type": "markdown",
   "id": "52ee1bc0",
   "metadata": {},
   "source": [
    "# Comments"
   ]
  },
  {
   "cell_type": "markdown",
   "id": "f7f30819",
   "metadata": {},
   "source": [
    "Comments are sentences not executed by the computer\n",
    "They begin with a \"#\" at the beginning of the line"
   ]
  },
  {
   "cell_type": "code",
   "execution_count": 39,
   "id": "b03899ec",
   "metadata": {},
   "outputs": [
    {
     "name": "stdout",
     "output_type": "stream",
     "text": [
      "7 2\n"
     ]
    }
   ],
   "source": [
    "# a comment\n",
    "print (7,2) # actual line of code"
   ]
  },
  {
   "cell_type": "markdown",
   "id": "2b4b36fe",
   "metadata": {},
   "source": [
    "# Line Continuation"
   ]
  },
  {
   "cell_type": "code",
   "execution_count": 40,
   "id": "15b478d8",
   "metadata": {},
   "outputs": [
    {
     "data": {
      "text/plain": [
       "8.0"
      ]
     },
     "execution_count": 40,
     "metadata": {},
     "output_type": "execute_result"
    }
   ],
   "source": [
    "2.0 * 1.5 + \\\n",
    "5 \n",
    "# use the escape key '\\' to continue your lines of \n",
    "        # code if they get too long\n",
    "# Comments cannot be put in between line continuations"
   ]
  },
  {
   "cell_type": "markdown",
   "id": "3cd29f74",
   "metadata": {},
   "source": [
    "# Indexing Elements"
   ]
  },
  {
   "cell_type": "code",
   "execution_count": 41,
   "id": "6e24d5bf",
   "metadata": {
    "scrolled": true
   },
   "outputs": [
    {
     "name": "stdout",
     "output_type": "stream",
     "text": [
      "d\n"
     ]
    }
   ],
   "source": [
    "\"Friday\" # How can we access the letter 'd'\n",
    "desiredChar = \"Friday\"[3]\n",
    "print(desiredChar)\n",
    "\n",
    "# Syntax: \"Name_of_variable\"[index_of_element]"
   ]
  },
  {
   "cell_type": "markdown",
   "id": "cdbd90f1",
   "metadata": {},
   "source": [
    "### Indexes start at 0, not 1. \"Friday\"[4] would get us 'a'"
   ]
  },
  {
   "cell_type": "markdown",
   "id": "bad97dd7",
   "metadata": {},
   "source": [
    "# Structure Your Code with Indentation"
   ]
  },
  {
   "cell_type": "markdown",
   "id": "8597ed65",
   "metadata": {},
   "source": [
    "### Indentation MATTERS in Python since there are no brackets used to declare the scope of code."
   ]
  },
  {
   "cell_type": "code",
   "execution_count": 42,
   "id": "bcea1cd6",
   "metadata": {},
   "outputs": [
    {
     "name": "stdout",
     "output_type": "stream",
     "text": [
      "5\n"
     ]
    }
   ],
   "source": [
    "def five(): # block of code #1\n",
    "    x = 5\n",
    "    return x\n",
    "\n",
    "print (five()) # block of code #2"
   ]
  },
  {
   "cell_type": "markdown",
   "id": "447a9b37",
   "metadata": {},
   "source": [
    "# Comparison Operators"
   ]
  },
  {
   "cell_type": "code",
   "execution_count": 43,
   "id": "ed551a4a",
   "metadata": {},
   "outputs": [
    {
     "data": {
      "text/plain": [
       "True"
      ]
     },
     "execution_count": 43,
     "metadata": {},
     "output_type": "execute_result"
    }
   ],
   "source": [
    "10 == 20/2"
   ]
  },
  {
   "cell_type": "code",
   "execution_count": 44,
   "id": "1c5765c5",
   "metadata": {
    "scrolled": true
   },
   "outputs": [
    {
     "data": {
      "text/plain": [
       "False"
      ]
     },
     "execution_count": 44,
     "metadata": {},
     "output_type": "execute_result"
    }
   ],
   "source": [
    "10 != 10"
   ]
  },
  {
   "cell_type": "markdown",
   "id": "e74d44a8",
   "metadata": {},
   "source": [
    "!= is synonymous with \"Not equal to\""
   ]
  },
  {
   "cell_type": "markdown",
   "id": "7833e413",
   "metadata": {},
   "source": [
    "Other comparison operators:\n",
    "    \n",
    "<, >, <=, <="
   ]
  },
  {
   "cell_type": "markdown",
   "id": "1f970b82",
   "metadata": {},
   "source": [
    "### Comparison Operators - Exercise #2"
   ]
  },
  {
   "cell_type": "markdown",
   "id": "1ec78df6",
   "metadata": {},
   "source": [
    "Verify that 5 multiplied by 3 is less than or equal to 5 to the power of 3."
   ]
  },
  {
   "cell_type": "code",
   "execution_count": 45,
   "id": "6592629a",
   "metadata": {},
   "outputs": [
    {
     "data": {
      "text/plain": [
       "True"
      ]
     },
     "execution_count": 45,
     "metadata": {},
     "output_type": "execute_result"
    }
   ],
   "source": [
    "5*3 <= 5**3"
   ]
  },
  {
   "cell_type": "markdown",
   "id": "5665823d",
   "metadata": {},
   "source": [
    "# Logical and Identity Operators"
   ]
  },
  {
   "cell_type": "markdown",
   "id": "a32da2fb",
   "metadata": {},
   "source": [
    "Logical/Boolean Operators: Not - And - Or"
   ]
  },
  {
   "cell_type": "code",
   "execution_count": 46,
   "id": "804df3ae",
   "metadata": {},
   "outputs": [
    {
     "name": "stdout",
     "output_type": "stream",
     "text": [
      "True\n",
      "False\n",
      "False\n"
     ]
    }
   ],
   "source": [
    "# and: checks whether the two statements are BOTH true\n",
    "print(True and True)\n",
    "print(True and False)\n",
    "print(False and False)"
   ]
  },
  {
   "cell_type": "code",
   "execution_count": 47,
   "id": "13aad706",
   "metadata": {},
   "outputs": [
    {
     "name": "stdout",
     "output_type": "stream",
     "text": [
      "True\n",
      "True\n",
      "False\n"
     ]
    }
   ],
   "source": [
    "# or: checks whether at least one of the two statements is True\n",
    "print(True or True)\n",
    "print(True or False)\n",
    "print(False or False)"
   ]
  },
  {
   "cell_type": "code",
   "execution_count": 48,
   "id": "9fc7d5fd",
   "metadata": {},
   "outputs": [
    {
     "name": "stdout",
     "output_type": "stream",
     "text": [
      "False\n",
      "True\n"
     ]
    }
   ],
   "source": [
    "# not: returns the opposite of the given statement\n",
    "print(not True)\n",
    "print(not False)"
   ]
  },
  {
   "cell_type": "code",
   "execution_count": 49,
   "id": "2e245493",
   "metadata": {},
   "outputs": [
    {
     "name": "stdout",
     "output_type": "stream",
     "text": [
      "False\n",
      "True\n"
     ]
    }
   ],
   "source": [
    "# example\n",
    "print(3 > 5 and 10 <= 20)\n",
    "print(not(3 > 5 and 10 <- 20))"
   ]
  },
  {
   "cell_type": "markdown",
   "id": "8b99f563",
   "metadata": {},
   "source": [
    "Order of Importance: 1. Not - 2. And - 3. Or"
   ]
  },
  {
   "cell_type": "code",
   "execution_count": 50,
   "id": "35b9e5e0",
   "metadata": {},
   "outputs": [
    {
     "name": "stdout",
     "output_type": "stream",
     "text": [
      "False\n",
      "False\n",
      "True\n"
     ]
    }
   ],
   "source": [
    "print(True and not True) # same as True and False\n",
    "print(False or not True and True) # same as False or (False and True)\n",
    "# which is the same as False or False -> False\n",
    "print(True and not True or True)"
   ]
  },
  {
   "cell_type": "markdown",
   "id": "843f1c51",
   "metadata": {},
   "source": [
    "Identity Operators: is and is not\n",
    "\n",
    "Are used to determine whether a variable refers to the same object (not whether they have the same value)"
   ]
  },
  {
   "cell_type": "code",
   "execution_count": 51,
   "id": "8db80836",
   "metadata": {},
   "outputs": [
    {
     "name": "stdout",
     "output_type": "stream",
     "text": [
      "True\n",
      "True\n",
      "False\n",
      "True\n"
     ]
    }
   ],
   "source": [
    "x = [1, 2, 3]\n",
    "y = x\n",
    "\n",
    "print(x is y)\n",
    "print(x == y)\n",
    "\n",
    "y = [1, 2, 3]\n",
    "\n",
    "print(x is y) # same values, different object\n",
    "print(x == y)"
   ]
  },
  {
   "cell_type": "markdown",
   "id": "10803634",
   "metadata": {},
   "source": [
    "# The IF Statement"
   ]
  },
  {
   "cell_type": "markdown",
   "id": "c4e1da4e",
   "metadata": {},
   "source": [
    "SYNTAX\n",
    "\n",
    "if condition:\n",
    "\n",
    "    conditional code"
   ]
  },
  {
   "cell_type": "code",
   "execution_count": 52,
   "id": "5128731f",
   "metadata": {},
   "outputs": [
    {
     "name": "stdout",
     "output_type": "stream",
     "text": [
      "Hooray!\n"
     ]
    }
   ],
   "source": [
    "# EXAMPLE\n",
    "if 5 == 15/3:\n",
    "    print(\"Hooray!\")"
   ]
  },
  {
   "cell_type": "markdown",
   "id": "ac31f5bd",
   "metadata": {},
   "source": [
    "SEMANTICS\n",
    "\n",
    "If condition is true -> execute conditional code\n",
    "Otherwise go to next block of code"
   ]
  },
  {
   "cell_type": "markdown",
   "id": "0f83f6d3",
   "metadata": {},
   "source": [
    "### The IF Statement - Exercise #2"
   ]
  },
  {
   "cell_type": "markdown",
   "id": "5dd14c58",
   "metadata": {},
   "source": [
    "Assign 10 to the variable x and 25 to the variable y. In the same cell, create 2 conditional statements. Let the first one print \"Both conditions are correct\" if x is greater then 3 and y is greater than 13. Let the second one print \"At least one of the conditions is false\" if x is less than or equal to 3 or y is less than or equal to 13. Change the values assigned to x and y and re-run the cell to verify your code still works."
   ]
  },
  {
   "cell_type": "code",
   "execution_count": 53,
   "id": "5ef6efe4",
   "metadata": {},
   "outputs": [
    {
     "name": "stdout",
     "output_type": "stream",
     "text": [
      "At least one of the conditions is false\n"
     ]
    }
   ],
   "source": [
    "x = 7\n",
    "y = 12\n",
    "if x > 3 and y > 13:\n",
    "    print(\"Both conditions are correct\")\n",
    "if x <= 3 or y <= 13:\n",
    "    print(\"At least one of the conditions is false\")"
   ]
  },
  {
   "cell_type": "markdown",
   "id": "c53316ab",
   "metadata": {},
   "source": [
    "# The ELSE Statement"
   ]
  },
  {
   "cell_type": "markdown",
   "id": "23a55868",
   "metadata": {},
   "source": [
    "Else statements follow if conditionals, creating another branch in case the conditional is not satisfied"
   ]
  },
  {
   "cell_type": "code",
   "execution_count": 54,
   "id": "38fa5495",
   "metadata": {},
   "outputs": [
    {
     "name": "stdout",
     "output_type": "stream",
     "text": [
      "Case 2\n"
     ]
    }
   ],
   "source": [
    "x = 1\n",
    "\n",
    "if x > 3:\n",
    "    print(\"Case 1\")\n",
    "if x <= 3:\n",
    "    print(\"Case 2\")"
   ]
  },
  {
   "cell_type": "code",
   "execution_count": 55,
   "id": "743ada02",
   "metadata": {},
   "outputs": [
    {
     "name": "stdout",
     "output_type": "stream",
     "text": [
      "Case 2\n"
     ]
    }
   ],
   "source": [
    "x = 1\n",
    "\n",
    "if x > 3:\n",
    "    print(\"Case 1\")\n",
    "else:\n",
    "    print(\"Case 2\")"
   ]
  },
  {
   "cell_type": "markdown",
   "id": "922c6f05",
   "metadata": {},
   "source": [
    "# The ELIF Statement"
   ]
  },
  {
   "cell_type": "markdown",
   "id": "360a25c9",
   "metadata": {},
   "source": [
    "The elif keyword allows us to add more \"else\" cases. Specifically, it acts as an exclusive if statement meaning that it only gets checked if the previous condition was NOT met."
   ]
  },
  {
   "cell_type": "code",
   "execution_count": 56,
   "id": "2f344a09",
   "metadata": {},
   "outputs": [],
   "source": [
    "def compare_to_five(y):\n",
    "    if y > 5:\n",
    "        return \"Greater\"\n",
    "    elif y < 5:\n",
    "        return \"Less\"\n",
    "    else:\n",
    "        return \"Equal\"\n",
    "    \n",
    "# It's important to remember that the computer reads your code\n",
    "# from top to bottom, so the order of your elif and else statements\n",
    "# matters!"
   ]
  },
  {
   "cell_type": "code",
   "execution_count": 57,
   "id": "18bc501f",
   "metadata": {},
   "outputs": [
    {
     "name": "stdout",
     "output_type": "stream",
     "text": [
      "Less\n",
      "Greater\n",
      "Equal\n"
     ]
    }
   ],
   "source": [
    " # TESTING\n",
    "print(compare_to_five(3))\n",
    "print(compare_to_five(7))\n",
    "print(compare_to_five(5))"
   ]
  },
  {
   "cell_type": "markdown",
   "id": "90a7c91c",
   "metadata": {},
   "source": [
    "# A Note on Boolean Values"
   ]
  },
  {
   "cell_type": "markdown",
   "id": "6a7c1dd5",
   "metadata": {},
   "source": [
    "Remember, a conditional is either TRUE or FALSE. There is no in between. In fact, your computer works completely on 1's and 0's and off/on switches. So, Booleans are a lot more crucial than one might initially assume."
   ]
  },
  {
   "cell_type": "markdown",
   "id": "69942291",
   "metadata": {},
   "source": [
    "# Defining a Function"
   ]
  },
  {
   "cell_type": "markdown",
   "id": "8f10d28d",
   "metadata": {},
   "source": [
    "Use the keyword \"def\" to define a function\n",
    "\n",
    "Syntax:\n",
    "\n",
    "def function_name (parameters):\n",
    "\n",
    "    function body\n",
    "    \n",
    "Don't forget simply defining a function won't do anything - you have to call it. Also, recall that INDENTATION MATTERS!"
   ]
  },
  {
   "cell_type": "code",
   "execution_count": 58,
   "id": "893151c4",
   "metadata": {
    "scrolled": true
   },
   "outputs": [
    {
     "name": "stdout",
     "output_type": "stream",
     "text": [
      "My first function\n"
     ]
    }
   ],
   "source": [
    "# defining the function\n",
    "def simple():\n",
    "    print(\"My first function\")\n",
    "\n",
    "# calling the function\n",
    "simple()"
   ]
  },
  {
   "cell_type": "markdown",
   "id": "c3473ca5",
   "metadata": {},
   "source": [
    "# Creating a Function with a Parameter"
   ]
  },
  {
   "cell_type": "markdown",
   "id": "c820436f",
   "metadata": {},
   "source": [
    "A parameter is a placeholder for a value that the function will take in. An argument is the actual value or object passed into the function when called."
   ]
  },
  {
   "cell_type": "code",
   "execution_count": 59,
   "id": "0e692102",
   "metadata": {},
   "outputs": [
    {
     "data": {
      "text/plain": [
       "12"
      ]
     },
     "execution_count": 59,
     "metadata": {},
     "output_type": "execute_result"
    }
   ],
   "source": [
    "def plus_ten(a): # a is the parameter here\n",
    "    return a + 10 \n",
    "        # returns a value from the function to wherever\n",
    "        # it was called (YOU CAN ONLY RETURN ONCE)\n",
    "        \n",
    "# plus_ten(argument)\n",
    "        \n",
    "plus_ten(2) # 2 is the argument here\n",
    "\n",
    "# RECALL THAT JUPYTER AUTOMATICALLY OUTPUTS, hence why we don't\n",
    "# have a print() anywhere, yet the output still appears"
   ]
  },
  {
   "cell_type": "markdown",
   "id": "0db10477",
   "metadata": {},
   "source": [
    "# Print vs Return | Variables within a Function"
   ]
  },
  {
   "cell_type": "markdown",
   "id": "96c4f25a",
   "metadata": {},
   "source": [
    "It is important to be able to distinguish the difference between print() and return.\n",
    "\n",
    "Print simply outputs an object, while return actually gives a value to wherever it was called from.\n",
    "\n",
    "You can have as many print() calls as you want in a function, but only ONE return, which will then exit the function (so any code after it will not be run).\n",
    "\n",
    "Also, you can create variables within a function called \"local variables.\" They are called this as they are local to the scope of the function, meaning that they cannot be accessed from outside the function."
   ]
  },
  {
   "cell_type": "code",
   "execution_count": 60,
   "id": "b5896fb2",
   "metadata": {},
   "outputs": [
    {
     "name": "stdout",
     "output_type": "stream",
     "text": [
      "Here is the result:\n",
      "12\n"
     ]
    }
   ],
   "source": [
    "def plus_ten(a):\n",
    "    result = a + 10 # result is a local variable\n",
    "    print(\"Here is the result:\")\n",
    "    return result\n",
    "    print(\"You will not see this, read above\")\n",
    "\n",
    "print(plus_ten(2))"
   ]
  },
  {
   "cell_type": "markdown",
   "id": "abf4745b",
   "metadata": {},
   "source": [
    "### Another Way to Define a Function - Exercise #1"
   ]
  },
  {
   "cell_type": "markdown",
   "id": "5c9eb8b3",
   "metadata": {},
   "source": [
    "Define a function called exponentiation_exp_2(x) that states the value of the argument accompanied by the phrase \"Raised to the power of 2:\" and returns a value equal to its argument raised to the power of 2. This time, use a new variable, called result, in the body of the Function. Call the function with some argument to verify it works properly."
   ]
  },
  {
   "cell_type": "code",
   "execution_count": 61,
   "id": "fce42a16",
   "metadata": {
    "scrolled": true
   },
   "outputs": [
    {
     "name": "stdout",
     "output_type": "stream",
     "text": [
      "10\n",
      "Raised to the power of 2:\n",
      "100\n"
     ]
    }
   ],
   "source": [
    "def exponentiation_exp_2(x):\n",
    "    print(x)\n",
    "    print(\"Raised to the power of 2:\")\n",
    "    result = x**2\n",
    "    return result\n",
    "    \n",
    "print(exponentiation_exp_2(10))"
   ]
  },
  {
   "cell_type": "markdown",
   "id": "14954fc1",
   "metadata": {},
   "source": [
    "# Using a Function within a Function"
   ]
  },
  {
   "cell_type": "markdown",
   "id": "ebd5124c",
   "metadata": {},
   "source": [
    "We've been using a function this whole time - print()! So, we already have some experience with calling a function within a function. Below is another example."
   ]
  },
  {
   "cell_type": "code",
   "execution_count": 62,
   "id": "fe698dbc",
   "metadata": {
    "scrolled": true
   },
   "outputs": [
    {
     "data": {
      "text/plain": [
       "(200, 250)"
      ]
     },
     "execution_count": 62,
     "metadata": {},
     "output_type": "execute_result"
    }
   ],
   "source": [
    "# wage = hours worked * $25/hr\n",
    "def wage(work_hours):\n",
    "    return work_hours * 25\n",
    "\n",
    "# manager gives you a $50 bonus\n",
    "def with_bonus(work_hours):\n",
    "    return wage(work_hours) + 50\n",
    "    # calls wage(w) function, gets the value, adds 50, then returns the sum\n",
    "\n",
    "wage(8), with_bonus(8)"
   ]
  },
  {
   "cell_type": "markdown",
   "id": "afc83a17",
   "metadata": {},
   "source": [
    "Quick Note: When a function calls itself, we are utilizing a process called recursion."
   ]
  },
  {
   "cell_type": "markdown",
   "id": "26e3dc12",
   "metadata": {},
   "source": [
    "# Combining Conditional Statements and Functions"
   ]
  },
  {
   "cell_type": "markdown",
   "id": "7dfc90e7",
   "metadata": {},
   "source": [
    "The concepts previously discussed are all tremendously important, and now it's time to begin combining them.\n",
    "\n",
    "Suppose Johnny's mom would give him an extra 10 dollars if he managed to save $100 by the end of the week, but if he failed to do, so he would receive nothing from her."
   ]
  },
  {
   "cell_type": "code",
   "execution_count": 63,
   "id": "303d2e44",
   "metadata": {},
   "outputs": [
    {
     "data": {
      "text/plain": [
       "'Johnny should save more'"
      ]
     },
     "execution_count": 63,
     "metadata": {},
     "output_type": "execute_result"
    }
   ],
   "source": [
    "def add_10(money_saved):\n",
    "    if money_saved >= 100:\n",
    "        money_saved += 10\n",
    "        return money_saved\n",
    "    else:\n",
    "        return \"Johnny should save more\"\n",
    "    \n",
    "add_10(80)"
   ]
  },
  {
   "cell_type": "markdown",
   "id": "04372d15",
   "metadata": {},
   "source": [
    "# Creating Functions with Multiple Parameters"
   ]
  },
  {
   "cell_type": "markdown",
   "id": "52ef324a",
   "metadata": {},
   "source": [
    "There is not much of a difference between having just one parameter or more, but just remember that the order of which the arguments are passed (10,3,2) vs (3, 2, 10) matters!"
   ]
  },
  {
   "cell_type": "code",
   "execution_count": 64,
   "id": "82e8d59b",
   "metadata": {},
   "outputs": [
    {
     "name": "stdout",
     "output_type": "stream",
     "text": [
      "Argument a equals 10\n",
      "Argument b equals 3\n",
      "Argument c equals 2\n"
     ]
    },
    {
     "data": {
      "text/plain": [
       "4"
      ]
     },
     "execution_count": 64,
     "metadata": {},
     "output_type": "execute_result"
    }
   ],
   "source": [
    "def subtract_bc(a,b,c):\n",
    "    result = a - b * c\n",
    "    print(\"Argument a equals\", a)\n",
    "    print(\"Argument b equals\", b)\n",
    "    print(\"Argument c equals\", c)\n",
    "    return result\n",
    "\n",
    "subtract_bc(10,3,2)"
   ]
  },
  {
   "cell_type": "markdown",
   "id": "29920331",
   "metadata": {},
   "source": [
    "You can get around the order, though, by specifying the parameter the argument is linked to as shown below. However, you normally wouldn't know the variables being used as parameters from other people's code."
   ]
  },
  {
   "cell_type": "code",
   "execution_count": 65,
   "id": "642b6d97",
   "metadata": {},
   "outputs": [
    {
     "name": "stdout",
     "output_type": "stream",
     "text": [
      "Argument a equals 10\n",
      "Argument b equals 3\n",
      "Argument c equals 2\n"
     ]
    },
    {
     "data": {
      "text/plain": [
       "4"
      ]
     },
     "execution_count": 65,
     "metadata": {},
     "output_type": "execute_result"
    }
   ],
   "source": [
    "subtract_bc(b=3, a=10, c=2)"
   ]
  },
  {
   "cell_type": "markdown",
   "id": "d3df22b3",
   "metadata": {},
   "source": [
    "# Notable Built-in Functions in Python"
   ]
  },
  {
   "cell_type": "markdown",
   "id": "ff5cc306",
   "metadata": {},
   "source": [
    "Besides type(), int(), float(), str(), and print(), there are plenty of useful built-in functions in Python.\n",
    "\n",
    "max() returns the greatest value from a sequence of numbers\n",
    "\n",
    "min() returns the lowest value from a sequence of numbers\n",
    "\n",
    "abs() allows you to obtain the absolute value of its argument\n",
    "\n",
    "sum() calculates the sum of all the elements in a list designated as an argument\n",
    "\n",
    "round(x,y) returns the float of its argument (x) rounded to a specified number of digits (y) after the decimal point. Missing (y) rounds down to 0\n",
    "\n",
    "pow(x,y) returns x to the power of y\n",
    "\n",
    "len() returns the number of elemnts in an object\n",
    "\n",
    "There are many others, but these were just a few examples."
   ]
  },
  {
   "cell_type": "code",
   "execution_count": 66,
   "id": "23cb9f86",
   "metadata": {},
   "outputs": [
    {
     "data": {
      "text/plain": [
       "30"
      ]
     },
     "execution_count": 66,
     "metadata": {},
     "output_type": "execute_result"
    }
   ],
   "source": [
    "max(10,20,30)"
   ]
  },
  {
   "cell_type": "code",
   "execution_count": 67,
   "id": "1a42490a",
   "metadata": {},
   "outputs": [
    {
     "data": {
      "text/plain": [
       "10"
      ]
     },
     "execution_count": 67,
     "metadata": {},
     "output_type": "execute_result"
    }
   ],
   "source": [
    "min(10,20,30)"
   ]
  },
  {
   "cell_type": "code",
   "execution_count": 68,
   "id": "b15fdad7",
   "metadata": {},
   "outputs": [
    {
     "data": {
      "text/plain": [
       "20"
      ]
     },
     "execution_count": 68,
     "metadata": {},
     "output_type": "execute_result"
    }
   ],
   "source": [
    "z = -20\n",
    "abs(z)"
   ]
  },
  {
   "cell_type": "code",
   "execution_count": 69,
   "id": "9aeb012f",
   "metadata": {},
   "outputs": [
    {
     "data": {
      "text/plain": [
       "10"
      ]
     },
     "execution_count": 69,
     "metadata": {},
     "output_type": "execute_result"
    }
   ],
   "source": [
    "list_1 = [1,2,3,4]\n",
    "sum(list_1)"
   ]
  },
  {
   "cell_type": "code",
   "execution_count": 70,
   "id": "991c5e38",
   "metadata": {},
   "outputs": [
    {
     "data": {
      "text/plain": [
       "3.15"
      ]
     },
     "execution_count": 70,
     "metadata": {},
     "output_type": "execute_result"
    }
   ],
   "source": [
    "round(3.1459,2)"
   ]
  },
  {
   "cell_type": "code",
   "execution_count": 71,
   "id": "2827177b",
   "metadata": {},
   "outputs": [
    {
     "data": {
      "text/plain": [
       "4"
      ]
     },
     "execution_count": 71,
     "metadata": {},
     "output_type": "execute_result"
    }
   ],
   "source": [
    "round(3.629)"
   ]
  },
  {
   "cell_type": "code",
   "execution_count": 72,
   "id": "9956c861",
   "metadata": {},
   "outputs": [
    {
     "name": "stdout",
     "output_type": "stream",
     "text": [
      "1024\n"
     ]
    },
    {
     "data": {
      "text/plain": [
       "1024"
      ]
     },
     "execution_count": 72,
     "metadata": {},
     "output_type": "execute_result"
    }
   ],
   "source": [
    "print(2**10)\n",
    "pow(2,10)"
   ]
  },
  {
   "cell_type": "code",
   "execution_count": 73,
   "id": "174e52f2",
   "metadata": {},
   "outputs": [
    {
     "data": {
      "text/plain": [
       "11"
      ]
     },
     "execution_count": 73,
     "metadata": {},
     "output_type": "execute_result"
    }
   ],
   "source": [
    "len('Mathematics')"
   ]
  },
  {
   "cell_type": "markdown",
   "id": "30241eaf",
   "metadata": {},
   "source": [
    "### Notable Built-In Functions Exercise 9"
   ]
  },
  {
   "cell_type": "markdown",
   "id": "70afddb4",
   "metadata": {},
   "source": [
    "Create a function, called distance_from_zero(), that returns the absolute value of a provided single argument and prints a statement \"Not possible\" if the argument provided is not a number. To solve the task, use the type() function in the body of distance_from_zero().\n",
    "\n",
    "Call the function with the values of -10 and \"cat\" to verify it works correctly."
   ]
  },
  {
   "cell_type": "code",
   "execution_count": 74,
   "id": "613f6098",
   "metadata": {},
   "outputs": [
    {
     "name": "stdout",
     "output_type": "stream",
     "text": [
      "10\n",
      "Not possible\n"
     ]
    }
   ],
   "source": [
    "def distance_from_zero(a):\n",
    "    if type(a) == int or type(a) == float:\n",
    "        x = abs(a)\n",
    "        print(x)\n",
    "    else:\n",
    "        print(\"Not possible\")\n",
    "    return\n",
    "    \n",
    "distance_from_zero(-10)\n",
    "distance_from_zero(\"cat\")"
   ]
  },
  {
   "cell_type": "markdown",
   "id": "b176b572",
   "metadata": {},
   "source": [
    "# Lists"
   ]
  },
  {
   "cell_type": "markdown",
   "id": "fffae77e",
   "metadata": {},
   "source": [
    "A list is a type of sequence of data points - crucial in today's market. We've seen them a couple times before. Here's an example:"
   ]
  },
  {
   "cell_type": "code",
   "execution_count": 75,
   "id": "6ef22774",
   "metadata": {},
   "outputs": [
    {
     "data": {
      "text/plain": [
       "['John', 'Leila', 'Gregory', 'Cate']"
      ]
     },
     "execution_count": 75,
     "metadata": {},
     "output_type": "execute_result"
    }
   ],
   "source": [
    "Participants = ['John', 'Leila', 'Gregory', 'Cate']\n",
    "Participants"
   ]
  },
  {
   "cell_type": "markdown",
   "id": "3bb6593f",
   "metadata": {},
   "source": [
    "Importantly, use square brackets [] to denote a list instead of another type of sequence."
   ]
  },
  {
   "cell_type": "markdown",
   "id": "c90658b8",
   "metadata": {},
   "source": [
    "Extracting an index is similar to how we got 'd' from 'Friday.' Recall, indexes start from 0!"
   ]
  },
  {
   "cell_type": "code",
   "execution_count": 76,
   "id": "e256e8c5",
   "metadata": {},
   "outputs": [
    {
     "name": "stdout",
     "output_type": "stream",
     "text": [
      "Cate\n"
     ]
    }
   ],
   "source": [
    "print(Participants[3])"
   ]
  },
  {
   "cell_type": "markdown",
   "id": "34d89b02",
   "metadata": {},
   "source": [
    "In Python, we can index a list starting from the right by using a negative index as shown below:"
   ]
  },
  {
   "cell_type": "code",
   "execution_count": 77,
   "id": "0281f2ec",
   "metadata": {},
   "outputs": [
    {
     "name": "stdout",
     "output_type": "stream",
     "text": [
      "Cate\n"
     ]
    }
   ],
   "source": [
    "print(Participants[-1])"
   ]
  },
  {
   "cell_type": "markdown",
   "id": "e8ca9878",
   "metadata": {},
   "source": [
    "Overwriting an element in the list can be done by simply reassigning that element to the new value:"
   ]
  },
  {
   "cell_type": "code",
   "execution_count": 78,
   "id": "f843c48c",
   "metadata": {},
   "outputs": [
    {
     "name": "stdout",
     "output_type": "stream",
     "text": [
      "Maria\n"
     ]
    },
    {
     "data": {
      "text/plain": [
       "['John', 'Leila', 'Gregory', 'Maria']"
      ]
     },
     "execution_count": 78,
     "metadata": {},
     "output_type": "execute_result"
    }
   ],
   "source": [
    "Participants[3] = 'Maria'\n",
    "print(Participants[3])\n",
    "Participants"
   ]
  },
  {
   "cell_type": "markdown",
   "id": "ea511f62",
   "metadata": {},
   "source": [
    "To remove an item from a list, we can use the del keyword at that particular index."
   ]
  },
  {
   "cell_type": "code",
   "execution_count": 79,
   "id": "9378019f",
   "metadata": {},
   "outputs": [
    {
     "data": {
      "text/plain": [
       "['John', 'Leila', 'Gregory']"
      ]
     },
     "execution_count": 79,
     "metadata": {},
     "output_type": "execute_result"
    }
   ],
   "source": [
    "del Participants[3]\n",
    "Participants"
   ]
  },
  {
   "cell_type": "markdown",
   "id": "172e36cb",
   "metadata": {},
   "source": [
    "To add an item to a list, use the append() method. The word method and function are synonynmous in Python, but methods are built-in functions that are used on objects such as a list. Example: object.method()"
   ]
  },
  {
   "cell_type": "code",
   "execution_count": 80,
   "id": "e2ad733c",
   "metadata": {
    "scrolled": true
   },
   "outputs": [
    {
     "data": {
      "text/plain": [
       "['John', 'Leila', 'Gregory', 'Dwayne']"
      ]
     },
     "execution_count": 80,
     "metadata": {},
     "output_type": "execute_result"
    }
   ],
   "source": [
    "Participants.append(\"Dwayne\")\n",
    "Participants"
   ]
  },
  {
   "cell_type": "markdown",
   "id": "663bf310",
   "metadata": {},
   "source": [
    "A similar result can be achieved by utilizing the extend() method. However, this time we will add a list onto our exisiting list."
   ]
  },
  {
   "cell_type": "code",
   "execution_count": 81,
   "id": "10b81e8f",
   "metadata": {},
   "outputs": [
    {
     "data": {
      "text/plain": [
       "['John', 'Leila', 'Gregory', 'Dwayne', 'George', 'Catherine']"
      ]
     },
     "execution_count": 81,
     "metadata": {},
     "output_type": "execute_result"
    }
   ],
   "source": [
    "Participants.extend(['George', 'Catherine'])\n",
    "Participants"
   ]
  },
  {
   "cell_type": "markdown",
   "id": "f4dca3db",
   "metadata": {},
   "source": [
    "The len() function can be utilized on lists in Python to get their size."
   ]
  },
  {
   "cell_type": "code",
   "execution_count": 82,
   "id": "70df2ac2",
   "metadata": {},
   "outputs": [
    {
     "data": {
      "text/plain": [
       "6"
      ]
     },
     "execution_count": 82,
     "metadata": {},
     "output_type": "execute_result"
    }
   ],
   "source": [
    "len(Participants)"
   ]
  },
  {
   "cell_type": "markdown",
   "id": "f7d898b0",
   "metadata": {},
   "source": [
    "Quick note: Observe how in the built-in function len(), Participants is an argument. In contrast, it is the object in the syntax of initiating a method."
   ]
  },
  {
   "cell_type": "markdown",
   "id": "d152395c",
   "metadata": {},
   "source": [
    "# List Slicing & More List Methods"
   ]
  },
  {
   "cell_type": "markdown",
   "id": "07fcab20",
   "metadata": {},
   "source": [
    "In the future, when working with Python, you'll typically be working with data that is quite big. Many of the problems that you'll be dealing with, however, will only regard a small portion of said data. That's why list slicing is crucial."
   ]
  },
  {
   "cell_type": "code",
   "execution_count": 83,
   "id": "7fd1a93d",
   "metadata": {},
   "outputs": [
    {
     "data": {
      "text/plain": [
       "['Leila', 'Gregory']"
      ]
     },
     "execution_count": 83,
     "metadata": {},
     "output_type": "execute_result"
    }
   ],
   "source": [
    "Participants[1:3] # This gets elements 1 and 2 within the list\n",
    "# The first index is exactly where we want to start, meanwhile the second is one above the index we want to capture"
   ]
  },
  {
   "cell_type": "markdown",
   "id": "4ff7aa96",
   "metadata": {},
   "source": [
    "If you disregard the first index, you'll slice from the beginning of the list."
   ]
  },
  {
   "cell_type": "code",
   "execution_count": 84,
   "id": "19167d9a",
   "metadata": {},
   "outputs": [
    {
     "data": {
      "text/plain": [
       "['John', 'Leila', 'Gregory', 'Dwayne']"
      ]
     },
     "execution_count": 84,
     "metadata": {},
     "output_type": "execute_result"
    }
   ],
   "source": [
    "Participants[:4]"
   ]
  },
  {
   "cell_type": "markdown",
   "id": "1bb7c819",
   "metadata": {},
   "source": [
    "Similarly, extracting from a certain index to the end of the list would look like:"
   ]
  },
  {
   "cell_type": "code",
   "execution_count": 85,
   "id": "11e1c7bb",
   "metadata": {},
   "outputs": [
    {
     "data": {
      "text/plain": [
       "['George', 'Catherine']"
      ]
     },
     "execution_count": 85,
     "metadata": {},
     "output_type": "execute_result"
    }
   ],
   "source": [
    "Participants[4:]"
   ]
  },
  {
   "cell_type": "markdown",
   "id": "709b6860",
   "metadata": {},
   "source": [
    "To slice the last 2 indexes without knowledge of the length of the list, you could use a negative index."
   ]
  },
  {
   "cell_type": "code",
   "execution_count": 86,
   "id": "0a2d0bba",
   "metadata": {},
   "outputs": [
    {
     "data": {
      "text/plain": [
       "['George', 'Catherine']"
      ]
     },
     "execution_count": 86,
     "metadata": {},
     "output_type": "execute_result"
    }
   ],
   "source": [
    "Participants[-2:]"
   ]
  },
  {
   "cell_type": "markdown",
   "id": "e481caf8",
   "metadata": {},
   "source": [
    "Say you want to find the index of a certain value in your list. You could do the index() method:"
   ]
  },
  {
   "cell_type": "code",
   "execution_count": 87,
   "id": "c69c9a1f",
   "metadata": {},
   "outputs": [
    {
     "data": {
      "text/plain": [
       "5"
      ]
     },
     "execution_count": 87,
     "metadata": {},
     "output_type": "execute_result"
    }
   ],
   "source": [
    "Participants.index(\"Catherine\")"
   ]
  },
  {
   "cell_type": "markdown",
   "id": "8dfba736",
   "metadata": {},
   "source": [
    "Another useful fact about lists, is that you can contain a list within a list. Because of Python's dynamic typing, not all elements have to be of the same type either (mix-matching is allowed)."
   ]
  },
  {
   "cell_type": "code",
   "execution_count": 88,
   "id": "2f54fcde",
   "metadata": {},
   "outputs": [
    {
     "data": {
      "text/plain": [
       "[['John', 'Leila', 'Gregory', 'Dwayne', 'George', 'Catherine'],\n",
       " ['Joshua', 'Brittany']]"
      ]
     },
     "execution_count": 88,
     "metadata": {},
     "output_type": "execute_result"
    }
   ],
   "source": [
    "Newcomers = ['Joshua', 'Brittany']\n",
    "\n",
    "Bigger_List = [Participants, Newcomers]\n",
    "Bigger_List"
   ]
  },
  {
   "cell_type": "markdown",
   "id": "e428dea7",
   "metadata": {},
   "source": [
    "You could also sort a list by utilizing the sort() method and sort in descending order by utilizing the sort method with the argument reverse=True."
   ]
  },
  {
   "cell_type": "code",
   "execution_count": 89,
   "id": "9ed1877a",
   "metadata": {},
   "outputs": [
    {
     "name": "stdout",
     "output_type": "stream",
     "text": [
      "['Catherine', 'Dwayne', 'George', 'Gregory', 'John', 'Leila']\n",
      "['Leila', 'John', 'Gregory', 'George', 'Dwayne', 'Catherine']\n"
     ]
    }
   ],
   "source": [
    "Participants.sort()\n",
    "print(Participants)\n",
    "Participants.sort(reverse=True)\n",
    "print(Participants)"
   ]
  },
  {
   "cell_type": "code",
   "execution_count": 90,
   "id": "3cb490f9",
   "metadata": {},
   "outputs": [
    {
     "data": {
      "text/plain": [
       "[['Joshua', 'Brittany'],\n",
       " ['Leila', 'John', 'Gregory', 'George', 'Dwayne', 'Catherine'],\n",
       " ['Stacey', 'Kamila']]"
      ]
     },
     "execution_count": 90,
     "metadata": {},
     "output_type": "execute_result"
    }
   ],
   "source": [
    "Bigger_List.append(['Stacey', 'Kamila'])\n",
    "Bigger_List.sort() # this sorts the list by the first element of each inner list\n",
    "Bigger_List"
   ]
  },
  {
   "cell_type": "markdown",
   "id": "93682e83",
   "metadata": {},
   "source": [
    "# Tuples"
   ]
  },
  {
   "cell_type": "markdown",
   "id": "00caf903",
   "metadata": {},
   "source": [
    "Tuples are another type of data sequences. However, in contrast with lists, they are immutable (unchangeable)."
   ]
  },
  {
   "cell_type": "markdown",
   "id": "b1420461",
   "metadata": {},
   "source": [
    "Syntactically, tuples differ from lists by using parenthesis () instead of square brackets []. Additionally, tuples are the default sequence in Python meaning that if you type a sequence without specification, it will be interpreted as a tuple."
   ]
  },
  {
   "cell_type": "code",
   "execution_count": 91,
   "id": "61427fa0",
   "metadata": {},
   "outputs": [
    {
     "name": "stdout",
     "output_type": "stream",
     "text": [
      "(2, 3)\n",
      "(23, 43, 12)\n"
     ]
    }
   ],
   "source": [
    "Coordinates = (2, 3) # explicit declaration of a tuple\n",
    "Favorite_Numbers = 23, 43, 12 # implicitly \"packed\" into a tuple\n",
    "print(Coordinates)\n",
    "print(Favorite_Numbers)"
   ]
  },
  {
   "cell_type": "code",
   "execution_count": 92,
   "id": "5cb0cb4d",
   "metadata": {},
   "outputs": [
    {
     "data": {
      "text/plain": [
       "6"
      ]
     },
     "execution_count": 92,
     "metadata": {},
     "output_type": "execute_result"
    }
   ],
   "source": [
    "a, b, c = 4, 5, 6 # tuple assignment\n",
    "c"
   ]
  },
  {
   "cell_type": "markdown",
   "id": "5942278b",
   "metadata": {},
   "source": [
    "Similarly to lists, we can utilize brackets [] to access an element within a tuple."
   ]
  },
  {
   "cell_type": "code",
   "execution_count": 93,
   "id": "12bdacf1",
   "metadata": {},
   "outputs": [
    {
     "data": {
      "text/plain": [
       "43"
      ]
     },
     "execution_count": 93,
     "metadata": {},
     "output_type": "execute_result"
    }
   ],
   "source": [
    "Favorite_Numbers[1]"
   ]
  },
  {
   "cell_type": "markdown",
   "id": "647f0059",
   "metadata": {},
   "source": [
    "As you could with lists, you can contain these data sequences within each other."
   ]
  },
  {
   "cell_type": "code",
   "execution_count": 94,
   "id": "2bd6db76",
   "metadata": {},
   "outputs": [
    {
     "data": {
      "text/plain": [
       "[(23, 43, 12), (2, 3)]"
      ]
     },
     "execution_count": 94,
     "metadata": {},
     "output_type": "execute_result"
    }
   ],
   "source": [
    "List_1 = [Favorite_Numbers, Coordinates]\n",
    "List_1"
   ]
  },
  {
   "cell_type": "markdown",
   "id": "ecea306d",
   "metadata": {},
   "source": [
    "Tuples can definitely be useful to store comma separated values:"
   ]
  },
  {
   "cell_type": "code",
   "execution_count": 95,
   "id": "90ad7df1",
   "metadata": {},
   "outputs": [
    {
     "name": "stdout",
     "output_type": "stream",
     "text": [
      "Cherry\n",
      "Goldberg\n"
     ]
    }
   ],
   "source": [
    "(FirstName, LastName) = \"Cherry,Goldberg\".split(\",\") # split method splits and assigns these comma separated values\n",
    "print(FirstName)\n",
    "print(LastName)"
   ]
  },
  {
   "cell_type": "markdown",
   "id": "530b80d2",
   "metadata": {},
   "source": [
    "An import functionality of tuples is that they can also be returned by a function."
   ]
  },
  {
   "cell_type": "code",
   "execution_count": 96,
   "id": "2c5cd302",
   "metadata": {},
   "outputs": [
    {
     "data": {
      "text/plain": [
       "(25, 20)"
      ]
     },
     "execution_count": 96,
     "metadata": {},
     "output_type": "execute_result"
    }
   ],
   "source": [
    "def square_info(len):\n",
    "    Area = len ** 2\n",
    "    Perimeter = 4 * len\n",
    "    return (Area, Perimeter)\n",
    "\n",
    "square_info(5)"
   ]
  },
  {
   "cell_type": "markdown",
   "id": "77fe8e36",
   "metadata": {},
   "source": [
    "# Dictionaries"
   ]
  },
  {
   "cell_type": "markdown",
   "id": "f0bbec17",
   "metadata": {},
   "source": [
    "Dictionaries represent another way of storing data. It stores key-value pairs. As for syntax, dictionaries utilizes curly braces {}."
   ]
  },
  {
   "cell_type": "code",
   "execution_count": 97,
   "id": "d79154d7",
   "metadata": {},
   "outputs": [
    {
     "data": {
      "text/plain": [
       "{'k1': 'cat', 'k2': 'dog', 'k3': 'mouse', 'k4': 'fish'}"
      ]
     },
     "execution_count": 97,
     "metadata": {},
     "output_type": "execute_result"
    }
   ],
   "source": [
    "dict = {\"k1\" : \"cat\", \"k2\" : \"dog\", \"k3\": \"mouse\", \"k4\" : \"fish\"}\n",
    "dict"
   ]
  },
  {
   "cell_type": "markdown",
   "id": "5aac017f",
   "metadata": {},
   "source": [
    "Similarly to lists and tuples, we will still utilize square brackets [] to access elements within the list where the keys of the dictionary act as the indexes of the values."
   ]
  },
  {
   "cell_type": "code",
   "execution_count": 98,
   "id": "2ddc01c7",
   "metadata": {},
   "outputs": [
    {
     "name": "stdout",
     "output_type": "stream",
     "text": [
      "cat\n",
      "mouse\n"
     ]
    }
   ],
   "source": [
    "print(dict['k1'])\n",
    "print(dict['k3'])"
   ]
  },
  {
   "cell_type": "markdown",
   "id": "63e7b9d4",
   "metadata": {},
   "source": [
    "To add an element to a dictionary, one must simply establish a new key-value pair. For more experienced programmers, one may notice that dictionaries act almost indentically to hash-maps in C++."
   ]
  },
  {
   "cell_type": "code",
   "execution_count": 99,
   "id": "7312c6b4",
   "metadata": {},
   "outputs": [
    {
     "data": {
      "text/plain": [
       "{'k1': 'cat', 'k2': 'dog', 'k3': 'mouse', 'k4': 'fish', 'k5': 'bird'}"
      ]
     },
     "execution_count": 99,
     "metadata": {},
     "output_type": "execute_result"
    }
   ],
   "source": [
    "dict['k5'] = 'bird'\n",
    "dict"
   ]
  },
  {
   "cell_type": "markdown",
   "id": "1b043bff",
   "metadata": {},
   "source": [
    "Overwriting an existing variable follows the same syntax:"
   ]
  },
  {
   "cell_type": "code",
   "execution_count": 100,
   "id": "e22ba722",
   "metadata": {},
   "outputs": [
    {
     "data": {
      "text/plain": [
       "{'k1': 'cat', 'k2': 'hamster', 'k3': 'mouse', 'k4': 'fish', 'k5': 'bird'}"
      ]
     },
     "execution_count": 100,
     "metadata": {},
     "output_type": "execute_result"
    }
   ],
   "source": [
    "dict['k2'] = 'hamster'\n",
    "dict"
   ]
  },
  {
   "cell_type": "markdown",
   "id": "d14dcb35",
   "metadata": {},
   "source": [
    "You can also store lists inside of dictionaries:"
   ]
  },
  {
   "cell_type": "code",
   "execution_count": 101,
   "id": "77b1fc9a",
   "metadata": {
    "scrolled": true
   },
   "outputs": [
    {
     "data": {
      "text/plain": [
       "['Macy, Grace, Carol']"
      ]
     },
     "execution_count": 101,
     "metadata": {},
     "output_type": "execute_result"
    }
   ],
   "source": [
    "dept_workers = {\"dept1\" : \"John\", \"dept2\" : [\"Macy, Grace, Carol\"]}\n",
    "dept_workers[\"dept2\"]"
   ]
  },
  {
   "cell_type": "markdown",
   "id": "c9fb3052",
   "metadata": {},
   "source": [
    "You can also create an empty dictionary, and define your key-value pairs from there."
   ]
  },
  {
   "cell_type": "code",
   "execution_count": 102,
   "id": "54aba967",
   "metadata": {},
   "outputs": [
    {
     "name": "stdout",
     "output_type": "stream",
     "text": [
      "{'Point Guard': 'Nick', 'Shooting Guard': 'Steph', 'Center': 'Drake', 'Small Forward': 'Eli', 'Power Forward': 'Miguel'}\n",
      "Drake\n"
     ]
    }
   ],
   "source": [
    "Team = {}\n",
    "Team['Point Guard'] = \"Nick\"\n",
    "Team['Shooting Guard'] = \"Steph\"\n",
    "Team['Center'] = \"Drake\"\n",
    "Team['Small Forward'] = \"Eli\"\n",
    "Team['Power Forward'] = \"Miguel\"\n",
    "print(Team)\n",
    "print(Team[\"Center\"])"
   ]
  },
  {
   "cell_type": "code",
   "execution_count": 103,
   "id": "05d81750",
   "metadata": {},
   "outputs": [
    {
     "name": "stdout",
     "output_type": "stream",
     "text": [
      "None\n"
     ]
    }
   ],
   "source": [
    "print(Team.get(\"Coach\")) # a perk of Python is that when utilizing the get() method on a dictionary \n",
    "# for an element that does not exist, it will return \"None\""
   ]
  },
  {
   "cell_type": "markdown",
   "id": "49918071",
   "metadata": {},
   "source": [
    "# For Loops"
   ]
  },
  {
   "cell_type": "markdown",
   "id": "2afe9739",
   "metadata": {},
   "source": [
    "Iteration is a fundamental building block of all programs. It is the ability to execute certain code repeatedly."
   ]
  },
  {
   "cell_type": "code",
   "execution_count": 104,
   "id": "3ff0d1d1",
   "metadata": {},
   "outputs": [
    {
     "name": "stdout",
     "output_type": "stream",
     "text": [
      "0 2 4 6 8 10 12 14 16 18 20 "
     ]
    }
   ],
   "source": [
    "even = [0,2,4,6,8,10,12,14,16,18,20]\n",
    "\n",
    "for n in even: # for each number in the even list, our code will print the current number (n) it's on\n",
    "    print(n, end = \" \"); \n",
    "    # this second argument indicates we want to print our output separated by 1 space"
   ]
  },
  {
   "cell_type": "markdown",
   "id": "5dae55d3",
   "metadata": {},
   "source": [
    "# While Loops and Incrementing"
   ]
  },
  {
   "cell_type": "markdown",
   "id": "cce01396",
   "metadata": {},
   "source": [
    "While loops work the same as for loops, however you must be careful to INCREMENT your flag condition."
   ]
  },
  {
   "cell_type": "code",
   "execution_count": 105,
   "id": "c0459f3b",
   "metadata": {},
   "outputs": [
    {
     "name": "stdout",
     "output_type": "stream",
     "text": [
      "0 2 4 6 8 10 12 14 16 18 20 "
     ]
    }
   ],
   "source": [
    "x = 0\n",
    "while x <= 20:\n",
    "    print(x, end = \" \")\n",
    "    x += 2 # incrementing, synonymous with x = x + 2"
   ]
  },
  {
   "cell_type": "markdown",
   "id": "3fe3bcf0",
   "metadata": {},
   "source": [
    "# Create Lists with range() Function"
   ]
  },
  {
   "cell_type": "markdown",
   "id": "54f1093d",
   "metadata": {},
   "source": [
    "Later in the course, we will have to randomize data points and lists with data points where we will need to utilize the range() function."
   ]
  },
  {
   "cell_type": "markdown",
   "id": "f0c22bd3",
   "metadata": {},
   "source": [
    "syntax: range(start, stop, step)\n",
    "start = first number in the list\n",
    "stop = the last value + 1\n",
    "step = the distance between each two consecutive value in the list\n",
    "\n",
    "stop is the only argument that is necessary"
   ]
  },
  {
   "cell_type": "code",
   "execution_count": 106,
   "id": "c845eb7f",
   "metadata": {},
   "outputs": [
    {
     "data": {
      "text/plain": [
       "range(0, 10)"
      ]
     },
     "execution_count": 106,
     "metadata": {},
     "output_type": "execute_result"
    }
   ],
   "source": [
    "range(10) #  == range(0,10,1)\n",
    "# returns a range OBJECT"
   ]
  },
  {
   "cell_type": "markdown",
   "id": "0038cdba",
   "metadata": {},
   "source": [
    "We can use Python 3's built-in list() function to display the sequence as a list:"
   ]
  },
  {
   "cell_type": "code",
   "execution_count": 107,
   "id": "df96678f",
   "metadata": {},
   "outputs": [
    {
     "data": {
      "text/plain": [
       "[0, 1, 2, 3, 4, 5, 6, 7, 8, 9]"
      ]
     },
     "execution_count": 107,
     "metadata": {},
     "output_type": "execute_result"
    }
   ],
   "source": [
    "list(range(0,10))"
   ]
  },
  {
   "cell_type": "code",
   "execution_count": 108,
   "id": "9a903fc5",
   "metadata": {},
   "outputs": [
    {
     "data": {
      "text/plain": [
       "[1, 3, 5, 7, 9, 11, 13, 15, 17, 19]"
      ]
     },
     "execution_count": 108,
     "metadata": {},
     "output_type": "execute_result"
    }
   ],
   "source": [
    "list(range(1,20,2))"
   ]
  },
  {
   "cell_type": "markdown",
   "id": "e8ea8abc",
   "metadata": {},
   "source": [
    "# Use Conditional Statements and Loops Together"
   ]
  },
  {
   "cell_type": "markdown",
   "id": "c0d70922",
   "metadata": {},
   "source": [
    "To print the list of numbers of 2^0 up to 2^9:"
   ]
  },
  {
   "cell_type": "code",
   "execution_count": 109,
   "id": "ee277d45",
   "metadata": {
    "scrolled": true
   },
   "outputs": [
    {
     "name": "stdout",
     "output_type": "stream",
     "text": [
      "1 2 4 8 16 32 64 128 256 512 "
     ]
    }
   ],
   "source": [
    "for n in range(10):\n",
    "    print(2**n, end = \" \")"
   ]
  },
  {
   "cell_type": "markdown",
   "id": "cc06c139",
   "metadata": {},
   "source": [
    "To print all the even numbers from 0 - 19, and print \"Odd\" for all the odd numbers:"
   ]
  },
  {
   "cell_type": "code",
   "execution_count": 110,
   "id": "dbc4ea7c",
   "metadata": {},
   "outputs": [
    {
     "name": "stdout",
     "output_type": "stream",
     "text": [
      "0 Odd 2 Odd 4 Odd 6 Odd 8 Odd 10 Odd 12 Odd 14 Odd 16 Odd 18 Odd "
     ]
    }
   ],
   "source": [
    "for x in range(20):\n",
    "    if x % 2 == 0: # if x is divisible by 2 --> x is even\n",
    "        print(x, end = \" \")\n",
    "    else:\n",
    "        print(\"Odd\", end = \" \")"
   ]
  },
  {
   "cell_type": "code",
   "execution_count": 111,
   "id": "ac8f78d0",
   "metadata": {},
   "outputs": [
    {
     "name": "stdout",
     "output_type": "stream",
     "text": [
      "0 1 2 3 4 5 \n",
      "0 1 2 3 4 5 "
     ]
    }
   ],
   "source": [
    "list_1 = [0, 1, 2, 3, 4, 5]\n",
    "\n",
    "# abstracted method\n",
    "for n in list_1:\n",
    "    print(n, end = \" \")\n",
    "    \n",
    "print() # new line\n",
    "\n",
    "# indexing method\n",
    "\n",
    "for index in range(len(list_1)): # gets the index\n",
    "    print(list_1[index], end = \" \")"
   ]
  },
  {
   "cell_type": "markdown",
   "id": "56b22b96",
   "metadata": {},
   "source": [
    "# Conditional Statements, Functions, and Loops"
   ]
  },
  {
   "cell_type": "markdown",
   "id": "7e72f91a",
   "metadata": {},
   "source": [
    "A small program that utilizes functions, loops, and conditional statements to write the total amount of numbers in a list that have a value less than 20."
   ]
  },
  {
   "cell_type": "code",
   "execution_count": 112,
   "id": "e7f719c7",
   "metadata": {},
   "outputs": [
    {
     "name": "stdout",
     "output_type": "stream",
     "text": [
      "19\n",
      "4\n"
     ]
    }
   ],
   "source": [
    "def count(numbers):\n",
    "    total = 0 # rolling sum\n",
    "    for x in numbers:\n",
    "        if x < 20:\n",
    "            total += 1\n",
    "    return total\n",
    "\n",
    "list_1 = list(range(1, 100))\n",
    "print(count(list_1)) # should print 19 (1 - 19)\n",
    "\n",
    "list_2 = [3, 8, 17, 19, 34, 28, 79]\n",
    "print(count(list_2))"
   ]
  },
  {
   "cell_type": "markdown",
   "id": "6c53eeaf",
   "metadata": {},
   "source": [
    "### Conditional Statements, Functions, and Loops Exercise"
   ]
  },
  {
   "cell_type": "markdown",
   "id": "7d826146",
   "metadata": {},
   "source": [
    "You are provided with the nums list. Complete the code in the cell that follows. Use a while loop to count the number of values lower than 20.\n",
    "\n"
   ]
  },
  {
   "cell_type": "code",
   "execution_count": 113,
   "id": "b50c4038",
   "metadata": {},
   "outputs": [
    {
     "name": "stdout",
     "output_type": "stream",
     "text": [
      "2\n"
     ]
    }
   ],
   "source": [
    "nums = [1,35,12,24,31,51,70,100]\n",
    "\n",
    "def count(list):\n",
    "    count = 0\n",
    "    index = 0\n",
    "\n",
    "    while index < len(list):\n",
    "        if list[index] < 20:\n",
    "            count += 1\n",
    "        index += 1\n",
    "    return count\n",
    "\n",
    "print(count(nums))"
   ]
  },
  {
   "cell_type": "markdown",
   "id": "0c47ef13",
   "metadata": {},
   "source": [
    "# Iterating Over Dictionaries"
   ]
  },
  {
   "cell_type": "markdown",
   "id": "e1583814",
   "metadata": {},
   "source": [
    "Consider the following scenario of buying groceries at a supermarket:"
   ]
  },
  {
   "cell_type": "code",
   "execution_count": 114,
   "id": "dee07837",
   "metadata": {},
   "outputs": [],
   "source": [
    "prices = {\n",
    "    \"box_of_spaghetti\": 4,\n",
    "    \"lasagna\" : 5,\n",
    "    \"hamburger\": 2\n",
    "}\n",
    "\n",
    "quantity = {\n",
    "    \"box_of_spaghetti\": 6,\n",
    "    \"lasagna\" : 10,\n",
    "    \"hamburger\": 0\n",
    "}"
   ]
  },
  {
   "cell_type": "markdown",
   "id": "858d9318",
   "metadata": {},
   "source": [
    "In order to determine the total amount of money spent on groceries, we need to find a way to multiply quantity and prices of the items bought."
   ]
  },
  {
   "cell_type": "code",
   "execution_count": 115,
   "id": "643ba001",
   "metadata": {},
   "outputs": [
    {
     "name": "stdout",
     "output_type": "stream",
     "text": [
      "74\n"
     ]
    }
   ],
   "source": [
    "money_spent = 0 # rolling sum\n",
    "\n",
    "for i in prices:\n",
    "    money_spent += prices[i] * quantity[i]\n",
    "    \n",
    "print(money_spent)"
   ]
  },
  {
   "cell_type": "markdown",
   "id": "a33127df",
   "metadata": {},
   "source": [
    "It doesn't matter which dictionary you loop through, because each dictionary contains the SAME KEYS."
   ]
  },
  {
   "cell_type": "markdown",
   "id": "b3363077",
   "metadata": {},
   "source": [
    "#### Python Basics following Udemy's \"The Data Analyst Course: Complete Data Analyst Bootcamp\"\n",
    "\n",
    "Written by Sebastian Yepez"
   ]
  }
 ],
 "metadata": {
  "kernelspec": {
   "display_name": "Python 3 (ipykernel)",
   "language": "python",
   "name": "python3"
  },
  "language_info": {
   "codemirror_mode": {
    "name": "ipython",
    "version": 3
   },
   "file_extension": ".py",
   "mimetype": "text/x-python",
   "name": "python",
   "nbconvert_exporter": "python",
   "pygments_lexer": "ipython3",
   "version": "3.11.5"
  }
 },
 "nbformat": 4,
 "nbformat_minor": 5
}
